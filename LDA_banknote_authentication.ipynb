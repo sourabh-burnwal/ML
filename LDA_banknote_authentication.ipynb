{
 "cells": [
  {
   "cell_type": "code",
   "execution_count": 74,
   "metadata": {},
   "outputs": [],
   "source": [
    "import numpy as np\n",
    "import pandas as pd\n",
    "import matplotlib.pyplot as plt\n",
    "import seaborn as sns\n",
    "%matplotlib inline"
   ]
  },
  {
   "cell_type": "code",
   "execution_count": 75,
   "metadata": {},
   "outputs": [],
   "source": [
    "columns = [\"var\",\"skewness\",\"curtosis\",\"entropy\",\"class\"]\n",
    "df = pd.read_csv(\"/home/ericedge/Desktop/workspace/datasets/data_banknote_authentication.txt\",index_col=False, names = columns)"
   ]
  },
  {
   "cell_type": "code",
   "execution_count": 76,
   "metadata": {},
   "outputs": [
    {
     "data": {
      "text/plain": [
       "(1372, 5)"
      ]
     },
     "execution_count": 76,
     "metadata": {},
     "output_type": "execute_result"
    }
   ],
   "source": [
    "df.shape"
   ]
  },
  {
   "cell_type": "code",
   "execution_count": 77,
   "metadata": {},
   "outputs": [],
   "source": [
    "dtset0 = df[df['class'] == 0]\n",
    "dtset0 = dtset0[['var','skewness','curtosis','entropy']]\n",
    "dtset1 = df[df['class'] == 1]\n",
    "dtset1 = dtset1[['var','skewness','curtosis','entropy']]"
   ]
  },
  {
   "cell_type": "code",
   "execution_count": 78,
   "metadata": {},
   "outputs": [
    {
     "data": {
      "text/html": [
       "<div>\n",
       "<style scoped>\n",
       "    .dataframe tbody tr th:only-of-type {\n",
       "        vertical-align: middle;\n",
       "    }\n",
       "\n",
       "    .dataframe tbody tr th {\n",
       "        vertical-align: top;\n",
       "    }\n",
       "\n",
       "    .dataframe thead th {\n",
       "        text-align: right;\n",
       "    }\n",
       "</style>\n",
       "<table border=\"1\" class=\"dataframe\">\n",
       "  <thead>\n",
       "    <tr style=\"text-align: right;\">\n",
       "      <th></th>\n",
       "      <th>var</th>\n",
       "      <th>skewness</th>\n",
       "      <th>curtosis</th>\n",
       "      <th>entropy</th>\n",
       "    </tr>\n",
       "  </thead>\n",
       "  <tbody>\n",
       "    <tr>\n",
       "      <th>0</th>\n",
       "      <td>3.62160</td>\n",
       "      <td>8.6661</td>\n",
       "      <td>-2.8073</td>\n",
       "      <td>-0.44699</td>\n",
       "    </tr>\n",
       "    <tr>\n",
       "      <th>1</th>\n",
       "      <td>4.54590</td>\n",
       "      <td>8.1674</td>\n",
       "      <td>-2.4586</td>\n",
       "      <td>-1.46210</td>\n",
       "    </tr>\n",
       "    <tr>\n",
       "      <th>2</th>\n",
       "      <td>3.86600</td>\n",
       "      <td>-2.6383</td>\n",
       "      <td>1.9242</td>\n",
       "      <td>0.10645</td>\n",
       "    </tr>\n",
       "    <tr>\n",
       "      <th>3</th>\n",
       "      <td>3.45660</td>\n",
       "      <td>9.5228</td>\n",
       "      <td>-4.0112</td>\n",
       "      <td>-3.59440</td>\n",
       "    </tr>\n",
       "    <tr>\n",
       "      <th>4</th>\n",
       "      <td>0.32924</td>\n",
       "      <td>-4.4552</td>\n",
       "      <td>4.5718</td>\n",
       "      <td>-0.98880</td>\n",
       "    </tr>\n",
       "  </tbody>\n",
       "</table>\n",
       "</div>"
      ],
      "text/plain": [
       "       var  skewness  curtosis  entropy\n",
       "0  3.62160    8.6661   -2.8073 -0.44699\n",
       "1  4.54590    8.1674   -2.4586 -1.46210\n",
       "2  3.86600   -2.6383    1.9242  0.10645\n",
       "3  3.45660    9.5228   -4.0112 -3.59440\n",
       "4  0.32924   -4.4552    4.5718 -0.98880"
      ]
     },
     "execution_count": 78,
     "metadata": {},
     "output_type": "execute_result"
    }
   ],
   "source": [
    "dtset0.head()"
   ]
  },
  {
   "cell_type": "code",
   "execution_count": 79,
   "metadata": {},
   "outputs": [
    {
     "name": "stdout",
     "output_type": "stream",
     "text": [
      "[array([ 2.27668601,  4.25662719,  0.79671797, -1.14764028]), array([-1.86844256, -0.99357612,  2.14827101, -1.24664075])]\n"
     ]
    }
   ],
   "source": [
    "mean_vec = []\n",
    "for i in df[\"class\"].unique():\n",
    "    mean_vec.append( np.array((df[df[\"class\"]==i].mean()[:4])))\n",
    "print(mean_vec)"
   ]
  },
  {
   "cell_type": "code",
   "execution_count": 80,
   "metadata": {},
   "outputs": [],
   "source": [
    "Sw = np.zeros((4,4))\n",
    "for i in range(1,4):\n",
    "    sc_mat = np.zeros((4,4))\n",
    "    for j in range(df[df[\"class\"]==i].shape[0]):\n",
    "        row, mean_val = np.array(df.loc[j][:4]).reshape(4,1), mean_vec[i].reshape(4,1)\n",
    "        sc_mat += (row-mean_val).dot((row-mean_val).T)\n",
    "    Sw += sc_mat"
   ]
  },
  {
   "cell_type": "code",
   "execution_count": 81,
   "metadata": {},
   "outputs": [],
   "source": [
    "overall_mean = np.array(df.drop(\"class\", axis=1).mean())\n",
    "Sb = np.zeros((4,4))\n",
    "for i in range(2):\n",
    "    n = df[df[\"class\"]==i].shape[0]\n",
    "    mv = mean_vec[i].reshape(4,1)\n",
    "    overall_mean = overall_mean.reshape(4,1)\n",
    "    Sb += n * (mv - overall_mean).dot((mv - overall_mean).T)"
   ]
  },
  {
   "cell_type": "code",
   "execution_count": 82,
   "metadata": {},
   "outputs": [],
   "source": [
    "e_vals, e_vecs = np.linalg.eig(np.linalg.inv(Sw).dot(Sb))"
   ]
  },
  {
   "cell_type": "code",
   "execution_count": 93,
   "metadata": {},
   "outputs": [
    {
     "data": {
      "text/plain": [
       "array([[ 0.74375324],\n",
       "       [-0.03293123],\n",
       "       [ 0.05485781],\n",
       "       [-0.54915972]])"
      ]
     },
     "execution_count": 93,
     "metadata": {},
     "output_type": "execute_result"
    }
   ],
   "source": [
    "e_vals[0]/e_vals.sum()"
   ]
  },
  {
   "cell_type": "code",
   "execution_count": 100,
   "metadata": {},
   "outputs": [],
   "source": [
    "df1 = df.drop('class', axis=1)\n",
    "Z = np.zeros(df1.shape)\n",
    "W = e_vecs[0].reshape(4,1)\n",
    "for i in range(df1.shape[0]):\n",
    "    Z[i] = (W.T).dot(df1.loc[i])"
   ]
  },
  {
   "cell_type": "code",
   "execution_count": 103,
   "metadata": {},
   "outputs": [
    {
     "data": {
      "text/plain": [
       "array([[ 2.49965797,  2.49965797,  2.49965797,  2.49965797],\n",
       "       [ 3.78011834,  3.78011834,  3.78011834,  3.78011834],\n",
       "       [ 3.00933183,  3.00933183,  3.00933183,  3.00933183],\n",
       "       ...,\n",
       "       [ 0.14410634,  0.14410634,  0.14410634,  0.14410634],\n",
       "       [-0.99042046, -0.99042046, -0.99042046, -0.99042046],\n",
       "       [-2.37798266, -2.37798266, -2.37798266, -2.37798266]])"
      ]
     },
     "execution_count": 103,
     "metadata": {},
     "output_type": "execute_result"
    }
   ],
   "source": [
    "Z"
   ]
  },
  {
   "cell_type": "code",
   "execution_count": null,
   "metadata": {},
   "outputs": [],
   "source": []
  }
 ],
 "metadata": {
  "kernelspec": {
   "display_name": "Python 3",
   "language": "python",
   "name": "python3"
  },
  "language_info": {
   "codemirror_mode": {
    "name": "ipython",
    "version": 3
   },
   "file_extension": ".py",
   "mimetype": "text/x-python",
   "name": "python",
   "nbconvert_exporter": "python",
   "pygments_lexer": "ipython3",
   "version": "3.7.4"
  }
 },
 "nbformat": 4,
 "nbformat_minor": 2
}
