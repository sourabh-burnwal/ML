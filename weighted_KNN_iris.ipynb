{
 "cells": [
  {
   "cell_type": "code",
   "execution_count": 2,
   "metadata": {},
   "outputs": [],
   "source": [
    "import pandas as pd\n",
    "import numpy as np\n",
    "import math\n",
    "import operator"
   ]
  },
  {
   "cell_type": "code",
   "execution_count": 3,
   "metadata": {},
   "outputs": [
    {
     "data": {
      "text/html": [
       "<div>\n",
       "<style scoped>\n",
       "    .dataframe tbody tr th:only-of-type {\n",
       "        vertical-align: middle;\n",
       "    }\n",
       "\n",
       "    .dataframe tbody tr th {\n",
       "        vertical-align: top;\n",
       "    }\n",
       "\n",
       "    .dataframe thead th {\n",
       "        text-align: right;\n",
       "    }\n",
       "</style>\n",
       "<table border=\"1\" class=\"dataframe\">\n",
       "  <thead>\n",
       "    <tr style=\"text-align: right;\">\n",
       "      <th></th>\n",
       "      <th>sepal_length</th>\n",
       "      <th>sepal_width</th>\n",
       "      <th>petal_length</th>\n",
       "      <th>petal_width</th>\n",
       "      <th>type</th>\n",
       "    </tr>\n",
       "  </thead>\n",
       "  <tbody>\n",
       "    <tr>\n",
       "      <th>0</th>\n",
       "      <td>5.1</td>\n",
       "      <td>3.5</td>\n",
       "      <td>1.4</td>\n",
       "      <td>0.2</td>\n",
       "      <td>setosa</td>\n",
       "    </tr>\n",
       "    <tr>\n",
       "      <th>1</th>\n",
       "      <td>5.1</td>\n",
       "      <td>3.5</td>\n",
       "      <td>1.4</td>\n",
       "      <td>0.2</td>\n",
       "      <td>setosa</td>\n",
       "    </tr>\n",
       "    <tr>\n",
       "      <th>2</th>\n",
       "      <td>4.9</td>\n",
       "      <td>3.0</td>\n",
       "      <td>1.4</td>\n",
       "      <td>0.2</td>\n",
       "      <td>setosa</td>\n",
       "    </tr>\n",
       "    <tr>\n",
       "      <th>3</th>\n",
       "      <td>4.7</td>\n",
       "      <td>3.2</td>\n",
       "      <td>1.3</td>\n",
       "      <td>0.2</td>\n",
       "      <td>setosa</td>\n",
       "    </tr>\n",
       "    <tr>\n",
       "      <th>4</th>\n",
       "      <td>4.6</td>\n",
       "      <td>3.1</td>\n",
       "      <td>1.5</td>\n",
       "      <td>0.2</td>\n",
       "      <td>setosa</td>\n",
       "    </tr>\n",
       "  </tbody>\n",
       "</table>\n",
       "</div>"
      ],
      "text/plain": [
       "   sepal_length  sepal_width  petal_length  petal_width    type\n",
       "0           5.1          3.5           1.4          0.2  setosa\n",
       "1           5.1          3.5           1.4          0.2  setosa\n",
       "2           4.9          3.0           1.4          0.2  setosa\n",
       "3           4.7          3.2           1.3          0.2  setosa\n",
       "4           4.6          3.1           1.5          0.2  setosa"
      ]
     },
     "execution_count": 3,
     "metadata": {},
     "output_type": "execute_result"
    }
   ],
   "source": [
    "col = ['sepal_length','sepal_width','petal_length','petal_width','type']\n",
    "iris = pd.read_csv(\"/home/ericedge/Desktop/workspace/datasets/iris.csv\", names=col)\n",
    "iris.head()"
   ]
  },
  {
   "cell_type": "code",
   "execution_count": 4,
   "metadata": {},
   "outputs": [],
   "source": [
    "def euclid_dist(data1, data2, length):\n",
    "    distance = 0\n",
    "    for i in range(length):\n",
    "        distance += np.square(data1[i] - data2[i])\n",
    "        \n",
    "    return np.sqrt(distance)"
   ]
  },
  {
   "cell_type": "code",
   "execution_count": 5,
   "metadata": {},
   "outputs": [],
   "source": [
    "def weighted_knn(training_set, test_instance, k):\n",
    "    distances = {}\n",
    "    sort = {}\n",
    "    length = test_instance.shape[1]\n",
    "    #print(length)\n",
    "\n",
    "    #calculating euclidian distance\n",
    "    for i in range(len(training_set)):\n",
    "        dist = euclid_dist(test_instance, training_set.iloc[i], length)\n",
    "        distances[i] = dist[0]\n",
    "\n",
    "    #sorting them on the basis of distance\n",
    "    sorted_d = sorted(distances.items(), key=operator.itemgetter(1))\n",
    "    #print(\"sorted_distance: {}\".format(sorted_d))\n",
    "    neighbors = {}\n",
    "\n",
    "    #extracting top k neighbors\n",
    "    for i in range(k):\n",
    "        neighbors[sorted_d[i][0]] = 1/sorted_d[i][1]\n",
    "\n",
    "    counts = {\"setosa\":0,\"versicolor\":0,\"virginica\":0}\n",
    "    \n",
    "    #now calculating the most frequent class\n",
    "    #print(neighbors)\n",
    "    for i in range(len(neighbors)):\n",
    "        response = training_set.iloc[list(neighbors)[i]][-1]\n",
    "        print(response)\n",
    "        if response in counts:\n",
    "            counts[response] += neighbors[list(neighbors)[i]]\n",
    "\n",
    "    print(counts)\n",
    "    sortedClass = sorted(counts.items(), key=operator.itemgetter(1), reverse=True)\n",
    "    #print(sortedClass)\n",
    "    return(sortedClass[0][0], neighbors)"
   ]
  },
  {
   "cell_type": "code",
   "execution_count": 6,
   "metadata": {},
   "outputs": [
    {
     "name": "stdout",
     "output_type": "stream",
     "text": [
      "virginica\n",
      "virginica\n",
      "virginica\n",
      "virginica\n",
      "versicolor\n",
      "virginica\n",
      "virginica\n",
      "{'setosa': 0, 'versicolor': 0.13461986538074042, 'virginica': 0.8215246951702384}\n",
      "flower is:  virginica\n",
      "neighbors are:  {107: 0.142019094330649, 115: 0.1397133229502432, 122: 0.1370634840042354, 114: 0.13648777260815353, 60: 0.13461986538074042, 102: 0.13312051063847863, 143: 0.13312051063847863}\n"
     ]
    }
   ],
   "source": [
    "testdata = [[1.3, 1.5, 3.6, 7.6]]\n",
    "test = pd.DataFrame(testdata)\n",
    "result, neigh = weighted_knn(iris, test, 7)\n",
    "print(\"flower is: \",result)\n",
    "print(\"neighbors are: \",neigh)"
   ]
  },
  {
   "cell_type": "code",
   "execution_count": null,
   "metadata": {},
   "outputs": [],
   "source": []
  },
  {
   "cell_type": "code",
   "execution_count": null,
   "metadata": {},
   "outputs": [],
   "source": []
  }
 ],
 "metadata": {
  "kernelspec": {
   "display_name": "Python 3",
   "language": "python",
   "name": "python3"
  },
  "language_info": {
   "codemirror_mode": {
    "name": "ipython",
    "version": 3
   },
   "file_extension": ".py",
   "mimetype": "text/x-python",
   "name": "python",
   "nbconvert_exporter": "python",
   "pygments_lexer": "ipython3",
   "version": "3.6.9"
  }
 },
 "nbformat": 4,
 "nbformat_minor": 2
}
